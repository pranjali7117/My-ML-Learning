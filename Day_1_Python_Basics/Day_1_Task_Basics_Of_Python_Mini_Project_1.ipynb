{
 "cells": [
  {
   "cell_type": "markdown",
   "metadata": {},
   "source": [
    "1.Write a Python print statement that shows a message saying, \"Starting the trading session.\""
   ]
  },
  {
   "cell_type": "code",
   "execution_count": 6,
   "metadata": {},
   "outputs": [
    {
     "name": "stdout",
     "output_type": "stream",
     "text": [
      "starting the session\n"
     ]
    }
   ],
   "source": [
    "#Write your code here\n",
    "print(\"starting the session\")"
   ]
  },
  {
   "cell_type": "markdown",
   "metadata": {},
   "source": [
    "2.Create a variable stock_price that stores the current price of a stock as a floating-point number."
   ]
  },
  {
   "cell_type": "code",
   "execution_count": 2,
   "metadata": {},
   "outputs": [],
   "source": [
    "stock_price = 145.65"
   ]
  },
  {
   "cell_type": "markdown",
   "metadata": {},
   "source": [
    "3.Assign the symbol AAPL to a variable named stock_symbol."
   ]
  },
  {
   "cell_type": "code",
   "execution_count": null,
   "metadata": {},
   "outputs": [],
   "source": [
    "#Write your code here\n",
    "stock_symbol = \"AAPL\""
   ]
  },
  {
   "cell_type": "markdown",
   "metadata": {},
   "source": [
    "4.Add a comment explaining that the following code will initialize a trading balance variable with 10000."
   ]
  },
  {
   "cell_type": "code",
   "execution_count": null,
   "metadata": {},
   "outputs": [],
   "source": [
    "#Write your code here\n",
    "trading_balance = 10000"
   ]
  },
  {
   "cell_type": "markdown",
   "metadata": {},
   "source": [
    "5.Identify and fix the syntax error in the following code snippet:\n",
    "   total_return = final_price - initial_price\n",
    "   print(total_return)"
   ]
  },
  {
   "cell_type": "code",
   "execution_count": null,
   "metadata": {},
   "outputs": [],
   "source": [
    "#Write your code here\n",
    "total_return = 200+150\n",
    "print(total_return)"
   ]
  },
  {
   "cell_type": "markdown",
   "metadata": {},
   "source": [
    "6.Write a program that asks the user for the quantity of a stock to buy and prints \"Buying X shares,\" where X is the input quantity."
   ]
  },
  {
   "cell_type": "code",
   "execution_count": null,
   "metadata": {},
   "outputs": [],
   "source": [
    "#Write your code here\n",
    "quantity = int(input(\"Enter quantity of stock to buy: \"))\n",
    "print(f\"Buying {quantity} shares\")\n"
   ]
  },
  {
   "cell_type": "markdown",
   "metadata": {},
   "source": [
    "7.Convert a string variable price_str holding the value \"89.50\" into a floating-point number."
   ]
  },
  {
   "cell_type": "code",
   "execution_count": 3,
   "metadata": {},
   "outputs": [],
   "source": [
    "#Write your code here\n",
    "price_str = \"89.50\"\n",
    "price = float(price_str)\n"
   ]
  },
  {
   "cell_type": "markdown",
   "metadata": {},
   "source": [
    "8.Define a list literal containing the stock symbols \"AAPL\", \"TSLA\", and \"GOOGL\"."
   ]
  },
  {
   "cell_type": "code",
   "execution_count": null,
   "metadata": {},
   "outputs": [],
   "source": [
    "#Write your code here\n",
    "stock_list = [\"AAPL\", \"TSLA\", \"GOOGL\"]"
   ]
  },
  {
   "cell_type": "markdown",
   "metadata": {},
   "source": [
    "9.Write a print statement that outputs \"Stock XYZ is trading at $PRICE\", where XYZ is a variable symbol, and PRICE is a floating-point variable price."
   ]
  },
  {
   "cell_type": "code",
   "execution_count": null,
   "metadata": {},
   "outputs": [],
   "source": [
    "#Write your code here\n",
    "symbol = \"MSFT\"\n",
    "price = 329.75\n",
    "print(f\"Stock {symbol} is trading at ${price}\")\n"
   ]
  },
  {
   "cell_type": "markdown",
   "metadata": {},
   "source": [
    "10.Write a Python Program print_trade_summary(symbol, quantity, price) that accepts a stock symbol, the number of shares, and the price per share. It should print out a formatted summary of the total trade cost."
   ]
  },
  {
   "cell_type": "code",
   "execution_count": 5,
   "metadata": {},
   "outputs": [
    {
     "name": "stdout",
     "output_type": "stream",
     "text": [
      "Trade Summary:\n",
      "Symbol: AAPL\n",
      "Shares: 10\n",
      "Price per Share: $150.5\n",
      "Total Cost: $1505.00\n"
     ]
    }
   ],
   "source": [
    "#Write your code here\n",
    "def print_trade_summary(symbol, quantity, price):\n",
    "    total_cost = quantity * price\n",
    "    print(f\"Trade Summary:\\nSymbol: {symbol}\\nShares: {quantity}\\nPrice per Share: ${price}\\nTotal Cost: ${total_cost:.2f}\")\n",
    "\n",
    "\n",
    "print_trade_summary(\"AAPL\", 10, 150.5)"
   ]
  },
  {
   "cell_type": "markdown",
   "metadata": {},
   "source": [
    "**11.** Calculate the Daily Return on Investment (ROI)\n",
    "\n",
    "**Objective:** Prompt the user to enter the purchase price and the selling price of a stock, and calculate the ROI.\n"
   ]
  },
  {
   "cell_type": "code",
   "execution_count": null,
   "metadata": {},
   "outputs": [],
   "source": [
    "#Write your code here\n",
    "buy_price = float(input(\"Enter purchase price: \"))\n",
    "sell_price = float(input(\"Enter selling price: \"))\n",
    "roi = ((sell_price - buy_price) / buy_price) * 100\n",
    "print(f\"Daily ROI: {roi:.2f}%\")"
   ]
  },
  {
   "cell_type": "markdown",
   "metadata": {},
   "source": [
    "**12.** Determine the Average Price from User Inputs\n",
    "\n",
    "**Objective:** Ask the user to input three different prices of a stock throughout the day and compute the average.\n"
   ]
  },
  {
   "cell_type": "code",
   "execution_count": null,
   "metadata": {},
   "outputs": [],
   "source": [
    "#Write your code here\n",
    "price1 = float(input(\"Enter stock price at morning: \"))\n",
    "price2 = float(input(\"Enter stock price at noon: \"))\n",
    "price3 = float(input(\"Enter stock price at close: \"))\n",
    "average_price = (price1 + price2 + price3) / 3\n",
    "print(f\"Average stock price today: {average_price:.2f}\")\n"
   ]
  },
  {
   "cell_type": "markdown",
   "metadata": {},
   "source": []
  },
  {
   "cell_type": "markdown",
   "metadata": {},
   "source": [
    "**13.** Compare Two Stock Prices\n",
    "\n",
    "**Objective:** Ask the user for the prices of two stocks and print which one is higher.\n",
    "\n"
   ]
  },
  {
   "cell_type": "code",
   "execution_count": null,
   "metadata": {},
   "outputs": [],
   "source": [
    "#Write your code here\n",
    "stock1 = float(input(\"Enter first stock price: \"))\n",
    "stock2 = float(input(\"Enter second stock price: \"))\n",
    "if stock1 > stock2:\n",
    "    print(\"First stock is higher.\")\n",
    "elif stock2 > stock1:\n",
    "    print(\"Second stock is higher.\")\n",
    "else:\n",
    "    print(\"Both stock prices are equal.\")"
   ]
  },
  {
   "cell_type": "markdown",
   "metadata": {},
   "source": [
    "**14.** Break-Even Price Calculator\n",
    "\n",
    "**Objective:** Calculate the break-even price after buying a stock and spending money on fees.\n",
    "\n",
    "\n"
   ]
  },
  {
   "cell_type": "code",
   "execution_count": 1,
   "metadata": {},
   "outputs": [
    {
     "name": "stdout",
     "output_type": "stream",
     "text": [
      "Break-even price per share: $57.00\n"
     ]
    }
   ],
   "source": [
    "#Write your code here\n",
    "buy_price = float(input(\"Enter buy price: \"))\n",
    "fees = float(input(\"Enter total fees: \"))\n",
    "break_even = buy_price + (fees / 1)  # assuming 1 share\n",
    "print(f\"Break-even price per share: ${break_even:.2f}\")"
   ]
  },
  {
   "cell_type": "markdown",
   "metadata": {},
   "source": [
    "**15.** Display Stock Price Change\n",
    "\n",
    "**Objective:** Ask the user to enter yesterday's and today's stock prices, then print the change in price.\n",
    "\n",
    "\n"
   ]
  },
  {
   "cell_type": "code",
   "execution_count": 2,
   "metadata": {},
   "outputs": [
    {
     "name": "stdout",
     "output_type": "stream",
     "text": [
      "Price change: $-120.00\n"
     ]
    }
   ],
   "source": [
    "#Write your code here\n",
    "yesterday_price = float(input(\"Enter yesterday's price: \"))\n",
    "today_price = float(input(\"Enter today's price: \"))\n",
    "change = today_price - yesterday_price\n",
    "print(f\"Price change: ${change:.2f}\")\n"
   ]
  },
  {
   "cell_type": "markdown",
   "metadata": {},
   "source": [
    "**16.** Calculate Required Margin\n",
    "\n",
    "**Objective:** Calculate the required margin for a trade based on user inputs for trade size and margin rate.\n",
    "\n"
   ]
  },
  {
   "cell_type": "code",
   "execution_count": 4,
   "metadata": {},
   "outputs": [
    {
     "name": "stdout",
     "output_type": "stream",
     "text": [
      "Required margin: $1.35\n"
     ]
    }
   ],
   "source": [
    "#Write your code here\n",
    "trade_size = float(input(\"Enter trade size: \"))\n",
    "margin_rate = float(input(\"Enter margin rate (in %): \"))\n",
    "required_margin = trade_size * (margin_rate / 100)\n",
    "print(f\"Required margin: ${required_margin:.2f}\")\n"
   ]
  },
  {
   "cell_type": "markdown",
   "metadata": {},
   "source": [
    "**17.** Convert Currency from User Input\n",
    "\n",
    "**Objective:** Ask the user for an amount in USD and a conversion rate, then convert it to another currency.\n",
    "\n",
    "\n"
   ]
  },
  {
   "cell_type": "code",
   "execution_count": null,
   "metadata": {},
   "outputs": [],
   "source": [
    "#Write your code here\n",
    "usd_amount = float(input(\"Enter amount in USD: \"))\n",
    "conversion_rate = float(input(\"Enter conversion rate to INR: \"))\n",
    "converted_amount = usd_amount * conversion_rate\n",
    "print(f\"Converted amount: ₹{converted_amount:.2f}\")\n"
   ]
  },
  {
   "cell_type": "markdown",
   "metadata": {},
   "source": [
    "**18.** Calculate the Weighted Average Price\n",
    "\n",
    "**Objective:** Calculate the weighted average price based on user inputs for different prices and their respective weights.\n",
    "\n",
    "\n"
   ]
  },
  {
   "cell_type": "code",
   "execution_count": null,
   "metadata": {},
   "outputs": [],
   "source": [
    "#Write your code here\n",
    "price_a = float(input(\"Enter price A: \"))\n",
    "weight_a = float(input(\"Enter weight for A: \"))\n",
    "price_b = float(input(\"Enter price B: \"))\n",
    "weight_b = float(input(\"Enter weight for B: \"))\n",
    "weighted_avg = ((price_a * weight_a) + (price_b * weight_b)) / (weight_a + weight_b)\n",
    "print(f\"Weighted average price: ${weighted_avg:.2f}\")\n"
   ]
  },
  {
   "cell_type": "markdown",
   "metadata": {},
   "source": [
    "**19.** User Input to Adjust Stock Quantity\n",
    "\n",
    "**Objective:** Prompt the user for the current number of stocks, how many to buy, and how many to sell, then calculate the new total.\n",
    "\n",
    "\n",
    "\n"
   ]
  },
  {
   "cell_type": "code",
   "execution_count": null,
   "metadata": {},
   "outputs": [],
   "source": [
    "#Write your code here\n",
    "current = int(input(\"Enter current stock quantity: \"))\n",
    "buy = int(input(\"Enter how many to buy: \"))\n",
    "sell = int(input(\"Enter how many to sell: \"))\n",
    "total = current + buy - sell\n",
    "print(f\"Updated stock quantity: {total}\")"
   ]
  },
  {
   "cell_type": "markdown",
   "metadata": {},
   "source": [
    "### Python Mini Project 1 :\n",
    "\n",
    "Scenario: Stock Data Entry and Analysis Tool\n",
    "\n",
    "**Objective:**\n",
    "Create a Python script that  will involve taking manual input for stock prices over a week and will calculate the average price. It should also demonstrate variable declaration, user input, and basic arithmetic using Python types.\n",
    "\n"
   ]
  },
  {
   "cell_type": "code",
   "execution_count": 5,
   "metadata": {},
   "outputs": [
    {
     "name": "stdout",
     "output_type": "stream",
     "text": [
      "\n",
      "--- Stock Data Entry and Analysis Tool ---\n",
      "\n",
      "Weekly average stock price: $32.29\n",
      "Highest price this week: $64.00\n",
      "Lowest price this week: $12.00\n"
     ]
    }
   ],
   "source": [
    "print(\"\\n--- Stock Data Entry and Analysis Tool ---\")\n",
    "stock_prices = []\n",
    "\n",
    "for i in range(7):\n",
    "    price = float(input(f\"Enter the stock price for day {i + 1}: \"))\n",
    "    stock_prices.append(price)\n",
    "\n",
    "average_price = sum(stock_prices) / len(stock_prices)\n",
    "print(f\"\\nWeekly average stock price: ${average_price:.2f}\")\n",
    "print(f\"Highest price this week: ${max(stock_prices):.2f}\")\n",
    "print(f\"Lowest price this week: ${min(stock_prices):.2f}\")\n"
   ]
  }
 ],
 "metadata": {
  "kernelspec": {
   "display_name": "Python 3",
   "language": "python",
   "name": "python3"
  },
  "language_info": {
   "codemirror_mode": {
    "name": "ipython",
    "version": 3
   },
   "file_extension": ".py",
   "mimetype": "text/x-python",
   "name": "python",
   "nbconvert_exporter": "python",
   "pygments_lexer": "ipython3",
   "version": "3.10.0"
  }
 },
 "nbformat": 4,
 "nbformat_minor": 2
}
